{
 "cells": [
  {
   "cell_type": "code",
   "execution_count": 2,
   "metadata": {},
   "outputs": [],
   "source": [
    "import numpy as np\n",
    "from numpy.linalg import inv\n",
    "from proj1_helpers import create_csv_submission, load_csv_data, predict_labels"
   ]
  },
  {
   "cell_type": "code",
   "execution_count": 11,
   "metadata": {},
   "outputs": [],
   "source": [
    "y, tx, ids = load_csv_data(\"train.csv\", True)"
   ]
  },
  {
   "cell_type": "code",
   "execution_count": 20,
   "metadata": {},
   "outputs": [
    {
     "data": {
      "text/plain": [
       "array([[   1.   ,  138.47 ,   51.655, ...,    1.24 ,   -2.475,  113.497],\n",
       "       [   1.   ,  219.057,   72.461, ..., -999.   , -999.   ,   50.396],\n",
       "       [   1.   ,   90.801,   27.787, ..., -999.   , -999.   ,   62.766],\n",
       "       ...,\n",
       "       [   1.   ,  142.347,    7.389, ..., -999.   , -999.   ,   97.068],\n",
       "       [   1.   ,   78.162,   46.335, ..., -999.   , -999.   ,   32.44 ],\n",
       "       [   1.   ,  130.042,    4.073, ..., -999.   , -999.   ,   51.037]])"
      ]
     },
     "execution_count": 20,
     "metadata": {},
     "output_type": "execute_result"
    }
   ],
   "source": [
    "# insert bias column\n",
    "tx_new = np.insert(tx, 0, 1, axis=1)\n",
    "tx_new"
   ]
  },
  {
   "cell_type": "code",
   "execution_count": 21,
   "metadata": {},
   "outputs": [],
   "source": [
    "def least_squares_cost(y, tx, w):\n",
    "    '''\n",
    "    :param y: np.array (m,1) \n",
    "    :param tx: np.array (m,n)\n",
    "    :param w: np.array (n,1)\n",
    "    :return: float\n",
    "    '''\n",
    "    cost = (1/2) * np.sum(np.square(y-np.dot(tx, w)))\n",
    "    return cost"
   ]
  },
  {
   "cell_type": "code",
   "execution_count": null,
   "metadata": {},
   "outputs": [],
   "source": [
    "def batch_iter(y, tx, batch_size, num_batches=1, shuffle=True): # taken from ex02 helper.py\n",
    "    \"\"\"\n",
    "    Generate a minibatch iterator for a dataset.\n",
    "    Takes as input two iterables (here the output desired values 'y' and the input data 'tx')\n",
    "    Outputs an iterator which gives mini-batches of `batch_size` matching elements from `y` and `tx`.\n",
    "    Data can be randomly shuffled to avoid ordering in the original data messing with the randomness of the minibatches.\n",
    "    Example of use :\n",
    "    for minibatch_y, minibatch_tx in batch_iter(y, tx, 32):\n",
    "        <DO-SOMETHING>\n",
    "    \"\"\"\n",
    "    data_size = len(y)\n",
    "\n",
    "    if shuffle:\n",
    "        shuffle_indices = np.random.permutation(np.arange(data_size))\n",
    "        shuffled_y = y[shuffle_indices]\n",
    "        shuffled_tx = tx[shuffle_indices]\n",
    "    else:\n",
    "        shuffled_y = y\n",
    "        shuffled_tx = tx\n",
    "    for batch_num in range(num_batches):\n",
    "        start_index = batch_num * batch_size\n",
    "        end_index = min((batch_num + 1) * batch_size, data_size)\n",
    "        if start_index != end_index:\n",
    "            yield shuffled_y[start_index:end_index], shuffled_tx[start_index:end_index]"
   ]
  },
  {
   "cell_type": "code",
   "execution_count": 17,
   "metadata": {},
   "outputs": [],
   "source": [
    "def least_squares_GD(y, tx, initial_w, max_iters, gamma):\n",
    "    '''\n",
    "    :param y: labels -> m x 1 np.array\n",
    "    :param tx: X -> m x n-1 np.array\n",
    "    :param initial_w: weights -> n x 1 np.array\n",
    "    :param max_iters: int\n",
    "    :param gamma: step size -> float\n",
    "    :return: (w, loss) -> (np.array, int)\n",
    "    '''\n",
    "\n",
    "    for i in max_iters:\n",
    "        error = np.dot(tx, initial_w) - y # (m,1)\n",
    "        gradient = np.dot(tx.T, error) # (n,m)x(m,1) -> (n,1)\n",
    "        initial_w = initial_w - (alpha/m) * gradient\n",
    "    \n",
    "    cost = least_squares_cost(y,tx,initial_w)\n",
    "    return (initial_w, cost)\n",
    "\n",
    "def least_squares_SGD(y, tx, initial_w, max_iters, gamma):\n",
    "    \n",
    "    for i in max_iters:\n",
    "        for minibatch_y, minibatch_tx in batch_iter(y, tx, 1):\n",
    "            error = np.dot(minibatch_tx, initial_w) - minibatch_y # (1,1)\n",
    "            gradient = np.dot(minibatch_tx.T, error) # (n,1)x(1,1) -> (n,1)\n",
    "            initial_w = initial_w - (alpha/m) * gradient\n",
    "            \n",
    "    cost = least_squares_cost(y, tx, initial_w)\n",
    "    return (initial_w, cost)\n",
    "\n",
    "def least_squares(y, tx):\n",
    "    first_term = np.invert(np.dot(tx.T, tx)) \n",
    "    pass\n",
    "\n",
    "def ridge_regression(y, tx, lambda_):\n",
    "    pass\n",
    "\n",
    "def logistic_regression(y, tx, initial_w, max_iters, gamma):\n",
    "    pass\n",
    "\n",
    "def reg_logistic_regression(y, tx, lambda_, inital_w, max_iters, gamma):\n",
    "    pass"
   ]
  },
  {
   "cell_type": "code",
   "execution_count": null,
   "metadata": {},
   "outputs": [],
   "source": []
  }
 ],
 "metadata": {
  "kernelspec": {
   "display_name": "Python [conda env:anaconda3]",
   "language": "python",
   "name": "conda-env-anaconda3-py"
  },
  "language_info": {
   "codemirror_mode": {
    "name": "ipython",
    "version": 3
   },
   "file_extension": ".py",
   "mimetype": "text/x-python",
   "name": "python",
   "nbconvert_exporter": "python",
   "pygments_lexer": "ipython3",
   "version": "3.6.5"
  }
 },
 "nbformat": 4,
 "nbformat_minor": 2
}
